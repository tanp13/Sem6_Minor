{
 "cells": [
  {
   "cell_type": "code",
   "execution_count": 1,
   "id": "c751f87d-e5d2-43df-a3bf-55950d34e9ac",
   "metadata": {},
   "outputs": [
    {
     "name": "stderr",
     "output_type": "stream",
     "text": [
      "[nltk_data] Downloading package punkt to\n",
      "[nltk_data]     C:\\Users\\Tanisha\\AppData\\Roaming\\nltk_data...\n",
      "[nltk_data]   Package punkt is already up-to-date!\n",
      "[nltk_data] Downloading package averaged_perceptron_tagger to\n",
      "[nltk_data]     C:\\Users\\Tanisha\\AppData\\Roaming\\nltk_data...\n",
      "[nltk_data]   Package averaged_perceptron_tagger is already up-to-\n",
      "[nltk_data]       date!\n"
     ]
    },
    {
     "data": {
      "text/plain": [
       "True"
      ]
     },
     "execution_count": 1,
     "metadata": {},
     "output_type": "execute_result"
    }
   ],
   "source": [
    "# Cell 1: Import necessary libraries\n",
    "import torch\n",
    "import torch.nn as nn\n",
    "from torch.utils.data import Dataset, DataLoader\n",
    "import numpy as np\n",
    "from tqdm.auto import tqdm\n",
    "import os\n",
    "from nltk.translate.bleu_score import sentence_bleu\n",
    "import nltk\n",
    "from sacremoses import MosesTokenizer, MosesDetokenizer\n",
    "from collections import defaultdict\n",
    "import math\n",
    "import pandas as pd\n",
    "import matplotlib.pyplot as plt\n",
    "import seaborn as sns\n",
    "from sklearn.model_selection import train_test_split\n",
    "import re\n",
    "import gc\n",
    "from collections import Counter\n",
    "\n",
    "# Download required NLTK data\n",
    "nltk.download('punkt')\n",
    "nltk.download('averaged_perceptron_tagger')"
   ]
  },
  {
   "cell_type": "code",
   "execution_count": 2,
   "id": "8640fb99-87af-4a41-8803-7e76ae9853c0",
   "metadata": {},
   "outputs": [],
   "source": [
    "# Cell 2: Define SanskritEnglishDataset class\n",
    "class SanskritEnglishDataset(Dataset):\n",
    "    def __init__(self, data, sanskrit_vocab, english_vocab, max_length=64):\n",
    "        self.data = data\n",
    "        self.sanskrit_vocab = sanskrit_vocab\n",
    "        self.english_vocab = english_vocab\n",
    "        self.max_length = max_length\n",
    "        self.sanskrit_tokenizer = MosesTokenizer(lang='sa')\n",
    "        self.english_tokenizer = MosesTokenizer(lang='en')\n",
    "\n",
    "    def __len__(self):\n",
    "        return len(self.data)\n",
    "\n",
    "    def __getitem__(self, idx):\n",
    "        item = self.data.iloc[idx]\n",
    "        sanskrit = item['content']\n",
    "        english = item['explanation']\n",
    "\n",
    "        sanskrit_tokens = self.sanskrit_tokenizer.tokenize(sanskrit)\n",
    "        english_tokens = self.english_tokenizer.tokenize(english)\n",
    "\n",
    "        sanskrit_indices = [self.sanskrit_vocab.get(token, self.sanskrit_vocab['<UNK>']) for token in sanskrit_tokens]\n",
    "        english_indices = [self.english_vocab.get(token, self.english_vocab['<UNK>']) for token in english_tokens]\n",
    "\n",
    "        sanskrit_indices = sanskrit_indices[:self.max_length] + [0] * (self.max_length - len(sanskrit_indices))\n",
    "        english_indices = [self.english_vocab['<START>']] + english_indices + [self.english_vocab['<END>']]\n",
    "        english_indices = english_indices[:self.max_length] + [0] * (self.max_length - len(english_indices))\n",
    "\n",
    "        return {\n",
    "            'sanskrit': torch.tensor(sanskrit_indices),\n",
    "            'english': torch.tensor(english_indices),\n",
    "            'english_input': torch.tensor(english_indices[:-1]),\n",
    "            'english_output': torch.tensor(english_indices[1:])\n",
    "        }"
   ]
  },
  {
   "cell_type": "code",
   "execution_count": 3,
   "id": "687ee8c5-b50b-4dfa-94c1-75fdea134ed0",
   "metadata": {},
   "outputs": [],
   "source": [
    "# Cell 4: Define the evaluate_translation function\n",
    "def evaluate_translation(reference, hypothesis):\n",
    "    \"\"\"Calculate BLEU score and other metrics\"\"\"\n",
    "    reference_tokens = nltk.word_tokenize(reference.lower())\n",
    "    hypothesis_tokens = nltk.word_tokenize(hypothesis.lower())\n",
    "\n",
    "    bleu_score = sentence_bleu([reference_tokens], hypothesis_tokens)\n",
    "\n",
    "    overlap = len(set(reference_tokens) & set(hypothesis_tokens))\n",
    "    total = len(set(reference_tokens) | set(hypothesis_tokens))\n",
    "    overlap_score = overlap / total if total > 0 else 0\n",
    "\n",
    "    return {\n",
    "        'bleu': bleu_score,\n",
    "        'word_overlap': overlap_score\n",
    "    }"
   ]
  },
  {
   "cell_type": "code",
   "execution_count": 4,
   "id": "908e3e41-6a77-45f8-abf4-36d356c95482",
   "metadata": {},
   "outputs": [
    {
     "name": "stdout",
     "output_type": "stream",
     "text": [
      "Building vocabularies...\n"
     ]
    },
    {
     "data": {
      "application/vnd.jupyter.widget-view+json": {
       "model_id": "a516202bb55c41659ed0f9880ac1dd79",
       "version_major": 2,
       "version_minor": 0
      },
      "text/plain": [
       "  0%|          | 0/2535 [00:00<?, ?it/s]"
      ]
     },
     "metadata": {},
     "output_type": "display_data"
    },
    {
     "name": "stdout",
     "output_type": "stream",
     "text": [
      "Vocabulary building complete.\n"
     ]
    }
   ],
   "source": [
    "# Cell 5: Load Data and Build Vocabulary\n",
    "df = pd.read_csv(\"sundarakanda.csv\")\n",
    "\n",
    "print(\"Building vocabularies...\")\n",
    "sanskrit_tokenizer = MosesTokenizer(lang='sa')\n",
    "english_tokenizer = MosesTokenizer(lang='en')\n",
    "\n",
    "sanskrit_counter = Counter()\n",
    "english_counter = Counter()\n",
    "\n",
    "for index, row in tqdm(df.iterrows(), total=len(df)):\n",
    "    sanskrit_tokens = sanskrit_tokenizer.tokenize(row['content'])\n",
    "    english_tokens = english_tokenizer.tokenize(row['explanation'])\n",
    "    sanskrit_counter.update(sanskrit_tokens)\n",
    "    english_counter.update(english_tokens)\n",
    "\n",
    "sanskrit_vocab = {'<PAD>': 0, '<UNK>': 1, '<START>': 2, '<END>': 3}\n",
    "english_vocab = {'<PAD>': 0, '<UNK>': 1, '<START>': 2, '<END>': 3}\n",
    "\n",
    "for token, _ in sanskrit_counter.most_common(10000):\n",
    "    sanskrit_vocab[token] = len(sanskrit_vocab)\n",
    "\n",
    "for token, _ in english_counter.most_common(10000):\n",
    "    english_vocab[token] = len(english_vocab)\n",
    "\n",
    "print(\"Vocabulary building complete.\")"
   ]
  },
  {
   "cell_type": "code",
   "execution_count": 5,
   "id": "06a3705f-e6b3-429d-b495-6ac2c851e76a",
   "metadata": {},
   "outputs": [],
   "source": [
    "# Cell 3: Define SanskritNMT class\n",
    "class SanskritNMT(nn.Module):\n",
    "    def __init__(self, sanskrit_vocab_size, english_vocab_size, embedding_dim=256, hidden_dim=512):\n",
    "        super().__init__()\n",
    "        self.device = torch.device(\"cuda\" if torch.cuda.is_available() else \"cpu\")\n",
    "\n",
    "        self.sanskrit_embedding = nn.Embedding(sanskrit_vocab_size, embedding_dim)\n",
    "        self.english_embedding = nn.Embedding(english_vocab_size, embedding_dim)\n",
    "\n",
    "        self.encoder = nn.LSTM(embedding_dim, hidden_dim, num_layers=2, bidirectional=True, batch_first=True)\n",
    "        self.decoder = nn.LSTM(embedding_dim, hidden_dim * 2, num_layers=2, batch_first=True)\n",
    "\n",
    "        self.output_layer = nn.Linear(hidden_dim * 2, english_vocab_size)\n",
    "\n",
    "        self.to(self.device)\n",
    "\n",
    "    def forward(self, sanskrit, english_input):\n",
    "        sanskrit_embedded = self.sanskrit_embedding(sanskrit)\n",
    "        english_embedded = self.english_embedding(english_input)\n",
    "\n",
    "        encoder_outputs, (hidden, cell) = self.encoder(sanskrit_embedded)\n",
    "\n",
    "        hidden = hidden.view(2, 2, -1, hidden.size(2))\n",
    "        hidden = hidden.permute(1, 0, 2, 3).contiguous().view(2, -1, hidden.size(3) * 2)\n",
    "        cell = cell.view(2, 2, -1, cell.size(2))\n",
    "        cell = cell.permute(1, 0, 2, 3).contiguous().view(2, -1, cell.size(3) * 2)\n",
    "\n",
    "        decoder_outputs, _ = self.decoder(english_embedded, (hidden, cell))\n",
    "\n",
    "        output = self.output_layer(decoder_outputs)\n",
    "\n",
    "        return output\n",
    "\n",
    "    def translate(self, sanskrit_text, sanskrit_vocab, english_vocab, max_length=64):\n",
    "        self.eval()\n",
    "        sanskrit_tokenizer = MosesTokenizer(lang='sa')\n",
    "        english_detokenizer = MosesDetokenizer(lang='en')\n",
    "\n",
    "        sanskrit_tokens = sanskrit_tokenizer.tokenize(sanskrit_text)\n",
    "        sanskrit_indices = [sanskrit_vocab.get(token, sanskrit_vocab['<UNK>']) for token in sanskrit_tokens]\n",
    "\n",
    "        sanskrit_indices = sanskrit_indices[:max_length] + [0] * (max_length - len(sanskrit_indices))\n",
    "\n",
    "        sanskrit_tensor = torch.tensor([sanskrit_indices]).to(self.device)\n",
    "\n",
    "        with torch.no_grad():\n",
    "            sanskrit_embedded = self.sanskrit_embedding(sanskrit_tensor)\n",
    "\n",
    "            encoder_outputs, (hidden, cell) = self.encoder(sanskrit_embedded)\n",
    "\n",
    "            hidden = hidden.view(2, 2, -1, hidden.size(2))\n",
    "            hidden = hidden.permute(1, 0, 2, 3).contiguous().view(2, -1, hidden.size(3) * 2)\n",
    "            cell = cell.view(2, 2, -1, cell.size(2))\n",
    "            cell = cell.permute(1, 0, 2, 3).contiguous().view(2, -1, cell.size(3) * 2)\n",
    "\n",
    "            decoder_input = torch.tensor([[english_vocab['<START>']]]).to(self.device)\n",
    "            translated_indices = []\n",
    "\n",
    "            for _ in range(max_length):\n",
    "                decoder_embedded = self.english_embedding(decoder_input)\n",
    "                decoder_outputs, (hidden, cell) = self.decoder(decoder_embedded, (hidden, cell))\n",
    "                output = self.output_layer(decoder_outputs[:, -1])\n",
    "\n",
    "                next_token = output.argmax(dim=1)\n",
    "                translated_indices.append(next_token.item())\n",
    "\n",
    "                if next_token.item() == english_vocab['<END>']:\n",
    "                    break\n",
    "\n",
    "                decoder_input = next_token.unsqueeze(0)\n",
    "\n",
    "        translated_tokens = []\n",
    "        for idx in translated_indices:\n",
    "            if idx in english_vocab.values():\n",
    "                token = list(english_vocab.keys())[list(english_vocab.values()).index(idx)]\n",
    "                if token not in ['<START>', '<END>', '<PAD>', '<UNK>']:\n",
    "                    translated_tokens.append(token)\n",
    "\n",
    "        return english_detokenizer.detokenize(translated_tokens)"
   ]
  },
  {
   "cell_type": "code",
   "execution_count": 6,
   "id": "cf55787d-3f6a-4964-9548-eb754a906e0c",
   "metadata": {},
   "outputs": [
    {
     "name": "stdout",
     "output_type": "stream",
     "text": [
      "\n",
      "Training NMT model (Epochs=1)...\n"
     ]
    },
    {
     "name": "stderr",
     "output_type": "stream",
     "text": [
      "100%|████████████████████████████████████████████████████████████████████████████████| 254/254 [09:47<00:00,  2.31s/it]"
     ]
    },
    {
     "name": "stdout",
     "output_type": "stream",
     "text": [
      "Epoch 1/1, Average Loss: 6.0549\n",
      "NMT training complete (Epochs=1).\n"
     ]
    },
    {
     "name": "stderr",
     "output_type": "stream",
     "text": [
      "\n"
     ]
    }
   ],
   "source": [
    "# Cell 1: Training NMT (Epochs=1)\n",
    "import torch\n",
    "import torch.nn as nn\n",
    "import torch.optim as optim\n",
    "from torch.utils.data import DataLoader\n",
    "from tqdm import tqdm\n",
    "import gc\n",
    "from sklearn.model_selection import train_test_split\n",
    "import numpy as np\n",
    "import matplotlib.pyplot as plt\n",
    "import seaborn as sns\n",
    "from nltk.translate.bleu_score import sentence_bleu, SmoothingFunction\n",
    "import nltk\n",
    "\n",
    "gc.collect()\n",
    "torch.cuda.empty_cache()\n",
    "\n",
    "nmt_model_1 = SanskritNMT(len(sanskrit_vocab), len(english_vocab))\n",
    "device = torch.device(\"cuda\" if torch.cuda.is_available() else \"cpu\")\n",
    "nmt_model_1.to(device)\n",
    "\n",
    "train_df, test_df = train_test_split(df, test_size=0.2, random_state=42)\n",
    "\n",
    "nmt_dataset = SanskritEnglishDataset(train_df, sanskrit_vocab, english_vocab)\n",
    "batch_size = 8\n",
    "train_loader = DataLoader(nmt_dataset, batch_size=batch_size, shuffle=True)\n",
    "\n",
    "optimizer = optim.Adam(nmt_model_1.parameters(), lr=0.001)\n",
    "criterion = nn.CrossEntropyLoss(ignore_index=0)\n",
    "num_epochs = 1\n",
    "\n",
    "print(\"\\nTraining NMT model (Epochs=1)...\")\n",
    "for epoch in range(num_epochs):\n",
    "    nmt_model_1.train()\n",
    "    total_loss = 0\n",
    "    for batch in tqdm(train_loader):\n",
    "        optimizer.zero_grad()\n",
    "        sanskrit = batch['sanskrit'].to(nmt_model_1.device)\n",
    "        english_input = batch['english_input'].to(nmt_model_1.device)\n",
    "        english_output = batch['english_output'].to(nmt_model_1.device)\n",
    "        output = nmt_model_1(sanskrit, english_input)\n",
    "        output = output.reshape(-1, output.size(-1))\n",
    "        target = english_output.reshape(-1)\n",
    "        loss = criterion(output, target)\n",
    "        loss.backward()\n",
    "        optimizer.step()\n",
    "        total_loss += loss.item()\n",
    "        del output, loss\n",
    "        torch.cuda.empty_cache()\n",
    "        gc.collect()\n",
    "    print(f\"Epoch {epoch+1}/{num_epochs}, Average Loss: {total_loss/len(train_loader):.4f}\")\n",
    "print(\"NMT training complete (Epochs=1).\")"
   ]
  },
  {
   "cell_type": "code",
   "execution_count": 7,
   "id": "49337ad8-5827-420f-ab54-94d44a152d24",
   "metadata": {},
   "outputs": [
    {
     "name": "stdout",
     "output_type": "stream",
     "text": [
      "\n",
      "Training NMT model (Epochs=2)...\n"
     ]
    },
    {
     "name": "stderr",
     "output_type": "stream",
     "text": [
      "100%|████████████████████████████████████████████████████████████████████████████████| 254/254 [07:50<00:00,  1.85s/it]\n"
     ]
    },
    {
     "name": "stdout",
     "output_type": "stream",
     "text": [
      "Epoch 1/2, Average Loss: 5.9736\n"
     ]
    },
    {
     "name": "stderr",
     "output_type": "stream",
     "text": [
      "100%|████████████████████████████████████████████████████████████████████████████████| 254/254 [07:18<00:00,  1.73s/it]"
     ]
    },
    {
     "name": "stdout",
     "output_type": "stream",
     "text": [
      "Epoch 2/2, Average Loss: 5.0478\n",
      "NMT training complete (Epochs=2).\n"
     ]
    },
    {
     "name": "stderr",
     "output_type": "stream",
     "text": [
      "\n"
     ]
    }
   ],
   "source": [
    "# Cell 2: Training NMT (Epochs=2)\n",
    "import torch\n",
    "import torch.nn as nn\n",
    "import torch.optim as optim\n",
    "from torch.utils.data import DataLoader\n",
    "from tqdm import tqdm\n",
    "import gc\n",
    "from sklearn.model_selection import train_test_split\n",
    "\n",
    "gc.collect()\n",
    "torch.cuda.empty_cache()\n",
    "\n",
    "nmt_model_2 = SanskritNMT(len(sanskrit_vocab), len(english_vocab))\n",
    "device = torch.device(\"cuda\" if torch.cuda.is_available() else \"cpu\")\n",
    "nmt_model_2.to(device)\n",
    "\n",
    "train_df, test_df = train_test_split(df, test_size=0.2, random_state=42)\n",
    "\n",
    "nmt_dataset = SanskritEnglishDataset(train_df, sanskrit_vocab, english_vocab)\n",
    "batch_size = 8\n",
    "train_loader = DataLoader(nmt_dataset, batch_size=batch_size, shuffle=True)\n",
    "\n",
    "optimizer = optim.Adam(nmt_model_2.parameters(), lr=0.001)\n",
    "criterion = nn.CrossEntropyLoss(ignore_index=0)\n",
    "num_epochs = 2\n",
    "\n",
    "print(\"\\nTraining NMT model (Epochs=2)...\")\n",
    "for epoch in range(num_epochs):\n",
    "    nmt_model_2.train()\n",
    "    total_loss = 0\n",
    "    for batch in tqdm(train_loader):\n",
    "        optimizer.zero_grad()\n",
    "        sanskrit = batch['sanskrit'].to(nmt_model_2.device)\n",
    "        english_input = batch['english_input'].to(nmt_model_2.device)\n",
    "        english_output = batch['english_output'].to(nmt_model_2.device)\n",
    "        output = nmt_model_2(sanskrit, english_input)\n",
    "        output = output.reshape(-1, output.size(-1))\n",
    "        target = english_output.reshape(-1)\n",
    "        loss = criterion(output, target)\n",
    "        loss.backward()\n",
    "        optimizer.step()\n",
    "        total_loss += loss.item()\n",
    "        del output, loss\n",
    "        torch.cuda.empty_cache()\n",
    "        gc.collect()\n",
    "    print(f\"Epoch {epoch+1}/{num_epochs}, Average Loss: {total_loss/len(train_loader):.4f}\")\n",
    "print(\"NMT training complete (Epochs=2).\")"
   ]
  },
  {
   "cell_type": "code",
   "execution_count": 8,
   "id": "62698056-b39d-41ad-a650-1872897ea433",
   "metadata": {},
   "outputs": [
    {
     "name": "stdout",
     "output_type": "stream",
     "text": [
      "\n",
      "Training NMT model (Epochs=5)...\n"
     ]
    },
    {
     "name": "stderr",
     "output_type": "stream",
     "text": [
      "100%|████████████████████████████████████████████████████████████████████████████████| 254/254 [07:13<00:00,  1.71s/it]\n"
     ]
    },
    {
     "name": "stdout",
     "output_type": "stream",
     "text": [
      "Epoch 1/5, Average Loss: 6.0283\n"
     ]
    },
    {
     "name": "stderr",
     "output_type": "stream",
     "text": [
      "100%|████████████████████████████████████████████████████████████████████████████████| 254/254 [07:15<00:00,  1.71s/it]\n"
     ]
    },
    {
     "name": "stdout",
     "output_type": "stream",
     "text": [
      "Epoch 2/5, Average Loss: 5.1701\n"
     ]
    },
    {
     "name": "stderr",
     "output_type": "stream",
     "text": [
      "100%|████████████████████████████████████████████████████████████████████████████████| 254/254 [07:18<00:00,  1.73s/it]\n"
     ]
    },
    {
     "name": "stdout",
     "output_type": "stream",
     "text": [
      "Epoch 3/5, Average Loss: 4.6582\n"
     ]
    },
    {
     "name": "stderr",
     "output_type": "stream",
     "text": [
      "100%|████████████████████████████████████████████████████████████████████████████████| 254/254 [07:19<00:00,  1.73s/it]\n"
     ]
    },
    {
     "name": "stdout",
     "output_type": "stream",
     "text": [
      "Epoch 4/5, Average Loss: 4.1739\n"
     ]
    },
    {
     "name": "stderr",
     "output_type": "stream",
     "text": [
      "100%|████████████████████████████████████████████████████████████████████████████████| 254/254 [07:18<00:00,  1.73s/it]"
     ]
    },
    {
     "name": "stdout",
     "output_type": "stream",
     "text": [
      "Epoch 5/5, Average Loss: 3.6454\n",
      "NMT training complete (Epochs=5).\n"
     ]
    },
    {
     "name": "stderr",
     "output_type": "stream",
     "text": [
      "\n"
     ]
    }
   ],
   "source": [
    "# Cell 3: Training NMT (Epochs=5)\n",
    "import torch\n",
    "import torch.nn as nn\n",
    "import torch.optim as optim\n",
    "from torch.utils.data import DataLoader\n",
    "from tqdm import tqdm\n",
    "import gc\n",
    "from sklearn.model_selection import train_test_split\n",
    "\n",
    "gc.collect()\n",
    "torch.cuda.empty_cache()\n",
    "\n",
    "nmt_model_5 = SanskritNMT(len(sanskrit_vocab), len(english_vocab))\n",
    "device = torch.device(\"cuda\" if torch.cuda.is_available() else \"cpu\")\n",
    "nmt_model_5.to(device)\n",
    "\n",
    "train_df, test_df = train_test_split(df, test_size=0.2, random_state=42)\n",
    "\n",
    "nmt_dataset = SanskritEnglishDataset(train_df, sanskrit_vocab, english_vocab)\n",
    "batch_size = 8\n",
    "train_loader = DataLoader(nmt_dataset, batch_size=batch_size, shuffle=True)\n",
    "\n",
    "optimizer = optim.Adam(nmt_model_5.parameters(), lr=0.001)\n",
    "criterion = nn.CrossEntropyLoss(ignore_index=0)\n",
    "num_epochs = 5\n",
    "\n",
    "print(\"\\nTraining NMT model (Epochs=5)...\")\n",
    "for epoch in range(num_epochs):\n",
    "    nmt_model_5.train()\n",
    "    total_loss = 0\n",
    "    for batch in tqdm(train_loader):\n",
    "        optimizer.zero_grad()\n",
    "        sanskrit = batch['sanskrit'].to(nmt_model_5.device)\n",
    "        english_input = batch['english_input'].to(nmt_model_5.device)\n",
    "        english_output = batch['english_output'].to(nmt_model_5.device)\n",
    "        output = nmt_model_5(sanskrit, english_input)\n",
    "        output = output.reshape(-1, output.size(-1))\n",
    "        target = english_output.reshape(-1)\n",
    "        loss = criterion(output, target)\n",
    "        loss.backward()\n",
    "        optimizer.step()\n",
    "        total_loss += loss.item()\n",
    "        del output, loss\n",
    "        torch.cuda.empty_cache()\n",
    "        gc.collect()\n",
    "    print(f\"Epoch {epoch+1}/{num_epochs}, Average Loss: {total_loss/len(train_loader):.4f}\")\n",
    "print(\"NMT training complete (Epochs=5).\")"
   ]
  },
  {
   "cell_type": "code",
   "execution_count": 9,
   "id": "1917170d-5cda-4cc4-b6af-54f1c90f4f3a",
   "metadata": {},
   "outputs": [
    {
     "name": "stdout",
     "output_type": "stream",
     "text": [
      "\n",
      "Training NMT model (Epochs=10)...\n"
     ]
    },
    {
     "name": "stderr",
     "output_type": "stream",
     "text": [
      "100%|████████████████████████████████████████████████████████████████████████████████| 254/254 [07:23<00:00,  1.75s/it]\n"
     ]
    },
    {
     "name": "stdout",
     "output_type": "stream",
     "text": [
      "Epoch 1/10, Average Loss: 6.0040\n",
      "NMT training complete (Epochs=10).\n"
     ]
    },
    {
     "name": "stderr",
     "output_type": "stream",
     "text": [
      "100%|████████████████████████████████████████████████████████████████████████████████| 254/254 [07:16<00:00,  1.72s/it]\n"
     ]
    },
    {
     "name": "stdout",
     "output_type": "stream",
     "text": [
      "Epoch 2/10, Average Loss: 5.1237\n",
      "NMT training complete (Epochs=10).\n"
     ]
    },
    {
     "name": "stderr",
     "output_type": "stream",
     "text": [
      "100%|████████████████████████████████████████████████████████████████████████████████| 254/254 [07:12<00:00,  1.70s/it]\n"
     ]
    },
    {
     "name": "stdout",
     "output_type": "stream",
     "text": [
      "Epoch 3/10, Average Loss: 4.5904\n",
      "NMT training complete (Epochs=10).\n"
     ]
    },
    {
     "name": "stderr",
     "output_type": "stream",
     "text": [
      "100%|████████████████████████████████████████████████████████████████████████████████| 254/254 [07:23<00:00,  1.74s/it]\n"
     ]
    },
    {
     "name": "stdout",
     "output_type": "stream",
     "text": [
      "Epoch 4/10, Average Loss: 4.0691\n",
      "NMT training complete (Epochs=10).\n"
     ]
    },
    {
     "name": "stderr",
     "output_type": "stream",
     "text": [
      "100%|████████████████████████████████████████████████████████████████████████████████| 254/254 [07:24<00:00,  1.75s/it]\n"
     ]
    },
    {
     "name": "stdout",
     "output_type": "stream",
     "text": [
      "Epoch 5/10, Average Loss: 3.4661\n",
      "NMT training complete (Epochs=10).\n"
     ]
    },
    {
     "name": "stderr",
     "output_type": "stream",
     "text": [
      "100%|████████████████████████████████████████████████████████████████████████████████| 254/254 [07:22<00:00,  1.74s/it]\n"
     ]
    },
    {
     "name": "stdout",
     "output_type": "stream",
     "text": [
      "Epoch 6/10, Average Loss: 2.7829\n",
      "NMT training complete (Epochs=10).\n"
     ]
    },
    {
     "name": "stderr",
     "output_type": "stream",
     "text": [
      "100%|████████████████████████████████████████████████████████████████████████████████| 254/254 [07:23<00:00,  1.75s/it]\n"
     ]
    },
    {
     "name": "stdout",
     "output_type": "stream",
     "text": [
      "Epoch 7/10, Average Loss: 2.0576\n",
      "NMT training complete (Epochs=10).\n"
     ]
    },
    {
     "name": "stderr",
     "output_type": "stream",
     "text": [
      "100%|████████████████████████████████████████████████████████████████████████████████| 254/254 [07:25<00:00,  1.75s/it]\n"
     ]
    },
    {
     "name": "stdout",
     "output_type": "stream",
     "text": [
      "Epoch 8/10, Average Loss: 1.3829\n",
      "NMT training complete (Epochs=10).\n"
     ]
    },
    {
     "name": "stderr",
     "output_type": "stream",
     "text": [
      "100%|████████████████████████████████████████████████████████████████████████████████| 254/254 [07:26<00:00,  1.76s/it]\n"
     ]
    },
    {
     "name": "stdout",
     "output_type": "stream",
     "text": [
      "Epoch 9/10, Average Loss: 0.8702\n",
      "NMT training complete (Epochs=10).\n"
     ]
    },
    {
     "name": "stderr",
     "output_type": "stream",
     "text": [
      "100%|████████████████████████████████████████████████████████████████████████████████| 254/254 [07:24<00:00,  1.75s/it]"
     ]
    },
    {
     "name": "stdout",
     "output_type": "stream",
     "text": [
      "Epoch 10/10, Average Loss: 0.5541\n",
      "NMT training complete (Epochs=10).\n"
     ]
    },
    {
     "name": "stderr",
     "output_type": "stream",
     "text": [
      "\n"
     ]
    }
   ],
   "source": [
    "# Cell 4: Training NMT (Epochs=10)\n",
    "import torch\n",
    "import torch.nn as nn\n",
    "import torch.optim as optim\n",
    "from torch.utils.data import DataLoader\n",
    "from tqdm import tqdm\n",
    "import gc\n",
    "from sklearn.model_selection import train_test_split\n",
    "\n",
    "gc.collect()\n",
    "torch.cuda.empty_cache()\n",
    "\n",
    "nmt_model_10 = SanskritNMT(len(sanskrit_vocab), len(english_vocab))\n",
    "device = torch.device(\"cuda\" if torch.cuda.is_available() else \"cpu\")\n",
    "nmt_model_10.to(device)\n",
    "\n",
    "train_df, test_df = train_test_split(df, test_size=0.2, random_state=42)\n",
    "\n",
    "nmt_dataset = SanskritEnglishDataset(train_df, sanskrit_vocab, english_vocab)\n",
    "batch_size = 8\n",
    "train_loader = DataLoader(nmt_dataset, batch_size=batch_size, shuffle=True)\n",
    "\n",
    "optimizer = optim.Adam(nmt_model_10.parameters(), lr=0.001)\n",
    "criterion = nn.CrossEntropyLoss(ignore_index=0)\n",
    "num_epochs = 10\n",
    "\n",
    "print(\"\\nTraining NMT model (Epochs=10)...\")\n",
    "for epoch in range(num_epochs):\n",
    "    nmt_model_10.train()\n",
    "    total_loss = 0\n",
    "    for batch in tqdm(train_loader):\n",
    "        optimizer.zero_grad()\n",
    "        sanskrit = batch['sanskrit'].to(nmt_model_10.device)\n",
    "        english_input = batch['english_input'].to(nmt_model_10.device)\n",
    "        english_output = batch['english_output'].to(nmt_model_10.device)\n",
    "        output = nmt_model_10(sanskrit, english_input)\n",
    "        output = output.reshape(-1, output.size(-1))\n",
    "        target = english_output.reshape(-1)\n",
    "        loss = criterion(output, target)\n",
    "        loss.backward()\n",
    "        optimizer.step()\n",
    "        total_loss += loss.item()\n",
    "        del output, loss\n",
    "        torch.cuda.empty_cache()\n",
    "        gc.collect()\n",
    "    print(f\"Epoch {epoch+1}/{num_epochs}, Average Loss: {total_loss/len(train_loader):.4f}\")\n",
    "    print(\"NMT training complete (Epochs=10).\")"
   ]
  },
  {
   "cell_type": "code",
   "execution_count": 10,
   "id": "86e31532-6a2b-4d5e-ae73-72f20d469231",
   "metadata": {},
   "outputs": [
    {
     "name": "stdout",
     "output_type": "stream",
     "text": [
      "\n",
      "Training NMT model (Epochs=15)...\n"
     ]
    },
    {
     "name": "stderr",
     "output_type": "stream",
     "text": [
      "100%|████████████████████████████████████████████████████████████████████████████████| 254/254 [07:25<00:00,  1.75s/it]\n"
     ]
    },
    {
     "name": "stdout",
     "output_type": "stream",
     "text": [
      "Epoch 1/15, Average Loss: 5.9940\n"
     ]
    },
    {
     "name": "stderr",
     "output_type": "stream",
     "text": [
      "100%|████████████████████████████████████████████████████████████████████████████████| 254/254 [07:25<00:00,  1.76s/it]\n"
     ]
    },
    {
     "name": "stdout",
     "output_type": "stream",
     "text": [
      "Epoch 2/15, Average Loss: 5.0829\n"
     ]
    },
    {
     "name": "stderr",
     "output_type": "stream",
     "text": [
      "100%|████████████████████████████████████████████████████████████████████████████████| 254/254 [07:29<00:00,  1.77s/it]\n"
     ]
    },
    {
     "name": "stdout",
     "output_type": "stream",
     "text": [
      "Epoch 3/15, Average Loss: 4.5174\n"
     ]
    },
    {
     "name": "stderr",
     "output_type": "stream",
     "text": [
      "100%|████████████████████████████████████████████████████████████████████████████████| 254/254 [07:16<00:00,  1.72s/it]\n"
     ]
    },
    {
     "name": "stdout",
     "output_type": "stream",
     "text": [
      "Epoch 4/15, Average Loss: 3.9467\n"
     ]
    },
    {
     "name": "stderr",
     "output_type": "stream",
     "text": [
      "100%|████████████████████████████████████████████████████████████████████████████████| 254/254 [07:15<00:00,  1.71s/it]\n"
     ]
    },
    {
     "name": "stdout",
     "output_type": "stream",
     "text": [
      "Epoch 5/15, Average Loss: 3.2823\n"
     ]
    },
    {
     "name": "stderr",
     "output_type": "stream",
     "text": [
      "100%|████████████████████████████████████████████████████████████████████████████████| 254/254 [08:55<00:00,  2.11s/it]\n"
     ]
    },
    {
     "name": "stdout",
     "output_type": "stream",
     "text": [
      "Epoch 6/15, Average Loss: 2.5110\n"
     ]
    },
    {
     "name": "stderr",
     "output_type": "stream",
     "text": [
      "100%|████████████████████████████████████████████████████████████████████████████████| 254/254 [08:50<00:00,  2.09s/it]\n"
     ]
    },
    {
     "name": "stdout",
     "output_type": "stream",
     "text": [
      "Epoch 7/15, Average Loss: 1.7438\n"
     ]
    },
    {
     "name": "stderr",
     "output_type": "stream",
     "text": [
      "100%|████████████████████████████████████████████████████████████████████████████████| 254/254 [08:14<00:00,  1.95s/it]\n"
     ]
    },
    {
     "name": "stdout",
     "output_type": "stream",
     "text": [
      "Epoch 8/15, Average Loss: 1.0974\n"
     ]
    },
    {
     "name": "stderr",
     "output_type": "stream",
     "text": [
      "100%|████████████████████████████████████████████████████████████████████████████████| 254/254 [08:00<00:00,  1.89s/it]\n"
     ]
    },
    {
     "name": "stdout",
     "output_type": "stream",
     "text": [
      "Epoch 9/15, Average Loss: 0.6617\n"
     ]
    },
    {
     "name": "stderr",
     "output_type": "stream",
     "text": [
      "100%|████████████████████████████████████████████████████████████████████████████████| 254/254 [08:51<00:00,  2.09s/it]\n"
     ]
    },
    {
     "name": "stdout",
     "output_type": "stream",
     "text": [
      "Epoch 10/15, Average Loss: 0.4468\n"
     ]
    },
    {
     "name": "stderr",
     "output_type": "stream",
     "text": [
      "100%|████████████████████████████████████████████████████████████████████████████████| 254/254 [07:50<00:00,  1.85s/it]\n"
     ]
    },
    {
     "name": "stdout",
     "output_type": "stream",
     "text": [
      "Epoch 11/15, Average Loss: 0.3707\n"
     ]
    },
    {
     "name": "stderr",
     "output_type": "stream",
     "text": [
      "100%|████████████████████████████████████████████████████████████████████████████████| 254/254 [07:30<00:00,  1.77s/it]\n"
     ]
    },
    {
     "name": "stdout",
     "output_type": "stream",
     "text": [
      "Epoch 12/15, Average Loss: 0.3417\n"
     ]
    },
    {
     "name": "stderr",
     "output_type": "stream",
     "text": [
      "100%|████████████████████████████████████████████████████████████████████████████████| 254/254 [07:16<00:00,  1.72s/it]\n"
     ]
    },
    {
     "name": "stdout",
     "output_type": "stream",
     "text": [
      "Epoch 13/15, Average Loss: 0.3282\n"
     ]
    },
    {
     "name": "stderr",
     "output_type": "stream",
     "text": [
      "100%|████████████████████████████████████████████████████████████████████████████████| 254/254 [07:16<00:00,  1.72s/it]\n"
     ]
    },
    {
     "name": "stdout",
     "output_type": "stream",
     "text": [
      "Epoch 14/15, Average Loss: 0.3218\n"
     ]
    },
    {
     "name": "stderr",
     "output_type": "stream",
     "text": [
      "100%|████████████████████████████████████████████████████████████████████████████████| 254/254 [07:16<00:00,  1.72s/it]"
     ]
    },
    {
     "name": "stdout",
     "output_type": "stream",
     "text": [
      "Epoch 15/15, Average Loss: 0.3167\n",
      "NMT training complete (Epochs=15).\n"
     ]
    },
    {
     "name": "stderr",
     "output_type": "stream",
     "text": [
      "\n"
     ]
    }
   ],
   "source": [
    "# Cell 5: Training NMT (Epochs=15)\n",
    "import torch\n",
    "import torch.nn as nn\n",
    "import torch.optim as optim\n",
    "from torch.utils.data import DataLoader\n",
    "from tqdm import tqdm\n",
    "import gc\n",
    "from sklearn.model_selection import train_test_split\n",
    "\n",
    "gc.collect()\n",
    "torch.cuda.empty_cache()\n",
    "\n",
    "nmt_model_15 = SanskritNMT(len(sanskrit_vocab), len(english_vocab))\n",
    "device = torch.device(\"cuda\" if torch.cuda.is_available() else \"cpu\")\n",
    "nmt_model_15.to(device)\n",
    "\n",
    "train_df, test_df = train_test_split(df, test_size=0.2, random_state=42)\n",
    "\n",
    "nmt_dataset = SanskritEnglishDataset(train_df, sanskrit_vocab, english_vocab)\n",
    "batch_size = 8\n",
    "train_loader = DataLoader(nmt_dataset, batch_size=batch_size, shuffle=True)\n",
    "\n",
    "optimizer = optim.Adam(nmt_model_15.parameters(), lr=0.001)\n",
    "criterion = nn.CrossEntropyLoss(ignore_index=0)\n",
    "num_epochs = 15\n",
    "\n",
    "print(\"\\nTraining NMT model (Epochs=15)...\")\n",
    "for epoch in range(num_epochs):\n",
    "    nmt_model_15.train()\n",
    "    total_loss = 0\n",
    "    for batch in tqdm(train_loader):\n",
    "        optimizer.zero_grad()\n",
    "        sanskrit = batch['sanskrit'].to(nmt_model_15.device)\n",
    "        english_input = batch['english_input'].to(nmt_model_15.device)\n",
    "        english_output = batch['english_output'].to(nmt_model_15.device)\n",
    "        output = nmt_model_15(sanskrit, english_input)\n",
    "        output = output.reshape(-1, output.size(-1))\n",
    "        target = english_output.reshape(-1)\n",
    "        loss = criterion(output, target)\n",
    "        loss.backward()\n",
    "        optimizer.step()\n",
    "        total_loss += loss.item()\n",
    "        del output, loss\n",
    "        torch.cuda.empty_cache()\n",
    "        gc.collect()\n",
    "    print(f\"Epoch {epoch+1}/{num_epochs}, Average Loss: {total_loss/len(train_loader):.4f}\")\n",
    "print(\"NMT training complete (Epochs=15).\")"
   ]
  },
  {
   "cell_type": "code",
   "execution_count": 12,
   "id": "9e8d1dbf-f755-48a1-a0e2-67ba2d0c745e",
   "metadata": {},
   "outputs": [
    {
     "name": "stderr",
     "output_type": "stream",
     "text": [
      "[nltk_data] Downloading package punkt_tab to\n",
      "[nltk_data]     C:\\Users\\Tanisha\\AppData\\Roaming\\nltk_data...\n",
      "[nltk_data]   Unzipping tokenizers\\punkt_tab.zip.\n"
     ]
    },
    {
     "name": "stdout",
     "output_type": "stream",
     "text": [
      "\n",
      "Evaluating model trained with 1 epochs...\n"
     ]
    },
    {
     "name": "stderr",
     "output_type": "stream",
     "text": [
      "100%|████████████████████████████████████████████████████████████████████████████████| 507/507 [14:32<00:00,  1.72s/it]\n"
     ]
    },
    {
     "name": "stdout",
     "output_type": "stream",
     "text": [
      "Evaluation of Epoch 1:\n",
      "  Average BLEU score: 0.0098\n",
      "  Average Word Overlap score: 0.0920\n",
      "\n",
      "Evaluating model trained with 2 epochs...\n"
     ]
    },
    {
     "name": "stderr",
     "output_type": "stream",
     "text": [
      "100%|████████████████████████████████████████████████████████████████████████████████| 507/507 [13:57<00:00,  1.65s/it]\n"
     ]
    },
    {
     "name": "stdout",
     "output_type": "stream",
     "text": [
      "Evaluation of Epoch 2:\n",
      "  Average BLEU score: 0.0118\n",
      "  Average Word Overlap score: 0.0893\n",
      "\n",
      "Evaluating model trained with 5 epochs...\n"
     ]
    },
    {
     "name": "stderr",
     "output_type": "stream",
     "text": [
      "100%|████████████████████████████████████████████████████████████████████████████████| 507/507 [06:15<00:00,  1.35it/s]\n"
     ]
    },
    {
     "name": "stdout",
     "output_type": "stream",
     "text": [
      "Evaluation of Epoch 5:\n",
      "  Average BLEU score: 0.0176\n",
      "  Average Word Overlap score: 0.1096\n",
      "\n",
      "Evaluating model trained with 10 epochs...\n"
     ]
    },
    {
     "name": "stderr",
     "output_type": "stream",
     "text": [
      "100%|████████████████████████████████████████████████████████████████████████████████| 507/507 [05:21<00:00,  1.58it/s]\n"
     ]
    },
    {
     "name": "stdout",
     "output_type": "stream",
     "text": [
      "Evaluation of Epoch 10:\n",
      "  Average BLEU score: 0.0144\n",
      "  Average Word Overlap score: 0.0969\n",
      "\n",
      "Evaluating model trained with 15 epochs...\n"
     ]
    },
    {
     "name": "stderr",
     "output_type": "stream",
     "text": [
      "100%|████████████████████████████████████████████████████████████████████████████████| 507/507 [07:17<00:00,  1.16it/s]\n"
     ]
    },
    {
     "name": "stdout",
     "output_type": "stream",
     "text": [
      "Evaluation of Epoch 15:\n",
      "  Average BLEU score: 0.0147\n",
      "  Average Word Overlap score: 0.1120\n"
     ]
    },
    {
     "data": {
      "image/png": "[encoded data removed]",
      "text/plain": [
       "<Figure size 1200x500 with 2 Axes>"
      ]
     },
     "metadata": {},
     "output_type": "display_data"
    }
   ],
   "source": [
    "# Cell 6: Evaluation and Graphing\n",
    "import nltk\n",
    "from nltk.translate.bleu_score import sentence_bleu, SmoothingFunction # Import SmoothingFunction\n",
    "from tqdm import tqdm\n",
    "from datasets import load_dataset  # Ensure this is imported\n",
    "\n",
    "# Download the necessary NLTK resource\n",
    "try:\n",
    "    nltk.data.find('tokenizers/punkt_tab')\n",
    "except LookupError:\n",
    "    nltk.download('punkt_tab')\n",
    "    \n",
    "def evaluate_translation(reference, hypothesis):\n",
    "    reference_tokens = nltk.word_tokenize(reference.lower())\n",
    "    hypothesis_tokens = nltk.word_tokenize(hypothesis.lower())\n",
    "    smoothie = SmoothingFunction().method4\n",
    "    bleu_score_nmt = sentence_bleu([reference_tokens], hypothesis_tokens, smoothing_function=smoothie)\n",
    "    overlap = len(set(reference_tokens) & set(hypothesis_tokens))\n",
    "    total = len(set(reference_tokens) | set(hypothesis_tokens))\n",
    "    overlap_score_nmt = overlap / total if total > 0 else 0\n",
    "    return {'bleu': bleu_score_nmt, 'word_overlap': overlap_score_nmt}\n",
    "\n",
    "def evaluate_model(model, test_df, sanskrit_vocab, english_vocab, epoch_num):\n",
    "    print(f\"\\nEvaluating model trained with {epoch_num} epochs...\") # Added print statement here\n",
    "    bleu_scores_nmt = []\n",
    "    overlap_scores_nmt = []\n",
    "    for index, row in tqdm(test_df.iterrows(), total=len(test_df)):\n",
    "        reference = str(row['explanation'])\n",
    "        hypothesis = model.translate(row['content'], sanskrit_vocab, english_vocab)\n",
    "        evaluation_results = evaluate_translation(reference, hypothesis)\n",
    "        bleu_scores_nmt.append(evaluation_results['bleu'])\n",
    "        overlap_scores_nmt.append(evaluation_results['word_overlap'])\n",
    "    avg_bleu = np.mean(bleu_scores_nmt)\n",
    "    avg_overlap = np.mean(overlap_scores_nmt)\n",
    "    print(f\"Evaluation of Epoch {epoch_num}:\")\n",
    "    print(f\"  Average BLEU score: {avg_bleu:.4f}\")\n",
    "    print(f\"  Average Word Overlap score: {avg_overlap:.4f}\")\n",
    "    return avg_bleu, avg_overlap\n",
    "\n",
    "bleu_1, overlap_1 = evaluate_model(nmt_model_1, test_df, sanskrit_vocab, english_vocab, 1)\n",
    "bleu_2, overlap_2 = evaluate_model(nmt_model_2, test_df, sanskrit_vocab, english_vocab, 2)\n",
    "bleu_5, overlap_5 = evaluate_model(nmt_model_5, test_df, sanskrit_vocab, english_vocab, 5)\n",
    "bleu_10, overlap_10 = evaluate_model(nmt_model_10, test_df, sanskrit_vocab, english_vocab, 10)\n",
    "bleu_15, overlap_15 = evaluate_model(nmt_model_15, test_df, sanskrit_vocab, english_vocab, 15)\n",
    "\n",
    "epochs = [1, 2, 5, 10, 15]\n",
    "bleu_scores = [bleu_1, bleu_2, bleu_5, bleu_10, bleu_15]\n",
    "overlap_scores = [overlap_1, overlap_2, overlap_5, overlap_10, overlap_15]\n",
    "\n",
    "plt.figure(figsize=(12, 5))\n",
    "plt.subplot(1, 2, 1)\n",
    "plt.plot(epochs, bleu_scores, marker='o')\n",
    "plt.title(\"BLEU Score vs. Epochs\")\n",
    "plt.xlabel(\"Epochs\")\n",
    "plt.ylabel(\"BLEU Score\")\n",
    "plt.subplot(1, 2, 2)\n",
    "plt.plot(epochs, overlap_scores, marker='o')\n",
    "plt.title(\"Word Overlap vs. Epochs\")\n",
    "plt.xlabel(\"Epochs\")\n",
    "plt.ylabel(\"Word Overlap\")\n",
    "plt.show()"
   ]
  },
  {
   "cell_type": "code",
   "execution_count": null,
   "id": "eb31ae4c-a49d-4f30-95ea-adfee37eaabd",
   "metadata": {},
   "outputs": [],
   "source": []
  }
 ],
 "metadata": {
  "kernelspec": {
   "display_name": "Python 3 (ipykernel)",
   "language": "python",
   "name": "python3"
  },
  "language_info": {
   "codemirror_mode": {
    "name": "ipython",
    "version": 3
   },
   "file_extension": ".py",
   "mimetype": "text/x-python",
   "name": "python",
   "nbconvert_exporter": "python",
   "pygments_lexer": "ipython3",
   "version": "3.11.9"
  }
 },
 "nbformat": 4,
 "nbformat_minor": 5
}
